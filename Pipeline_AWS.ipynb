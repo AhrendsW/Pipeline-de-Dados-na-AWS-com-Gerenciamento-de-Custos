{
  "nbformat": 4,
  "nbformat_minor": 0,
  "metadata": {
    "colab": {
      "provenance": [],
      "authorship_tag": "ABX9TyPN6F+LNREf4nGC4/CfD9EK",
      "include_colab_link": true
    },
    "kernelspec": {
      "name": "python3",
      "display_name": "Python 3"
    },
    "language_info": {
      "name": "python"
    }
  },
  "cells": [
    {
      "cell_type": "markdown",
      "metadata": {
        "id": "view-in-github",
        "colab_type": "text"
      },
      "source": [
        "<a href=\"https://colab.research.google.com/github/AhrendsW/Pipeline-de-Dados-na-AWS-e-Gerenciamento-de-Custos/blob/main/Pipeline_AWS.ipynb\" target=\"_parent\"><img src=\"https://colab.research.google.com/assets/colab-badge.svg\" alt=\"Open In Colab\"/></a>"
      ]
    },
    {
      "cell_type": "code",
      "execution_count": null,
      "metadata": {
        "id": "4O8lac69SQv9"
      },
      "outputs": [],
      "source": [
        "!mkdir -p data"
      ]
    },
    {
      "cell_type": "code",
      "source": [
        "import urllib.request\n",
        "\n",
        "def extract_data(url, dest):\n",
        "    try:\n",
        "        urllib.request.urlretrieve(url, dest)\n",
        "    except Exception as e:\n",
        "        print(f\"Error: {e}\")"
      ],
      "metadata": {
        "id": "PVdv-HEzSV93"
      },
      "execution_count": null,
      "outputs": []
    },
    {
      "cell_type": "code",
      "source": [
        "extract_data('https://data.boston.gov/dataset/8048697b-ad64-4bfc-b090-ee00169f2323/resource/c9509ab4-6f6d-4b97-979a-0cf2a10c922b/download/tmphrybkxuh.csv', 'data/data_2015.csv')\n",
        "extract_data('https://data.boston.gov/dataset/8048697b-ad64-4bfc-b090-ee00169f2323/resource/b7ea6b1b-3ca4-4c5b-9713-6dc1db52379a/download/tmpzxzxeqfb.csv', 'data/data_2016.csv')\n",
        "extract_data('https://data.boston.gov/dataset/8048697b-ad64-4bfc-b090-ee00169f2323/resource/30022137-709d-465e-baae-ca155b51927d/download/tmpzccn8u4q.csv', 'data/data_2017.csv')\n",
        "extract_data('https://data.boston.gov/dataset/8048697b-ad64-4bfc-b090-ee00169f2323/resource/2be28d90-3a90-4af1-a3f6-f28c1e25880a/download/tmp7602cia8.csv', 'data/data_2018.csv')\n",
        "extract_data('https://data.boston.gov/dataset/8048697b-ad64-4bfc-b090-ee00169f2323/resource/ea2e4696-4a2d-429c-9807-d02eb92e0222/download/tmpcje3ep_w.csv', 'data/data_2019.csv')\n",
        "extract_data('https://data.boston.gov/dataset/8048697b-ad64-4bfc-b090-ee00169f2323/resource/6ff6a6fd-3141-4440-a880-6f60a37fe789/download/tmpcv_10m2s.csv', 'data/data_2020.csv')"
      ],
      "metadata": {
        "id": "dfaegX34Sqb1"
      },
      "execution_count": null,
      "outputs": []
    },
    {
      "cell_type": "code",
      "source": [
        "import glob\n",
        "arquivos_csv = glob.glob('data/*.csv')"
      ],
      "metadata": {
        "id": "15Vgb3Y7TTj8"
      },
      "execution_count": null,
      "outputs": []
    },
    {
      "cell_type": "code",
      "source": [
        "from google.colab import drive\n",
        "drive.mount('/content/drive')"
      ],
      "metadata": {
        "colab": {
          "base_uri": "https://localhost:8080/"
        },
        "id": "lV9_dsWYVf1u",
        "outputId": "cf98baa0-dff7-4a55-e486-c361d24a82da"
      },
      "execution_count": null,
      "outputs": [
        {
          "output_type": "stream",
          "name": "stdout",
          "text": [
            "Drive already mounted at /content/drive; to attempt to forcibly remount, call drive.mount(\"/content/drive\", force_remount=True).\n"
          ]
        }
      ]
    },
    {
      "cell_type": "code",
      "source": [
        "!pip install python-dotenv -qq"
      ],
      "metadata": {
        "id": "CqoVhX3da0X4"
      },
      "execution_count": null,
      "outputs": []
    },
    {
      "cell_type": "code",
      "source": [
        "from dotenv import load_dotenv\n",
        "import os\n",
        "dotenv_path = '/content/drive/MyDrive/Curso-AWS/Pipeline-Intro/.config/.env'\n",
        "load_dotenv(dotenv_path)\n",
        "\n",
        "aws_access_key_id = os.getenv('AWS_ACCESS_KEY_ID')\n",
        "aws_secret_access_key = os.getenv('AWS_SECRET_ACCESS_KEY')\n",
        "aws_region = os.getenv('AWS_REGION')\n",
        "bucket_name = os.getenv('BUCKET_NAME')"
      ],
      "metadata": {
        "id": "HNCXOSGBbA0D"
      },
      "execution_count": null,
      "outputs": []
    },
    {
      "cell_type": "code",
      "source": [
        "!pip install boto3 -qq"
      ],
      "metadata": {
        "id": "3CZsewzHbccz"
      },
      "execution_count": null,
      "outputs": []
    },
    {
      "cell_type": "markdown",
      "source": [
        "Conectando a AWS pelo SDK boto3"
      ],
      "metadata": {
        "id": "PPanwi8McT2W"
      }
    },
    {
      "cell_type": "code",
      "source": [
        "import boto3\n",
        "s3_client = boto3.client(\n",
        "    's3',\n",
        "    aws_access_key_id=aws_access_key_id,\n",
        "    aws_secret_access_key=aws_secret_access_key,\n",
        "    region_name=aws_region\n",
        ")"
      ],
      "metadata": {
        "id": "6fyFUB0kbZmY"
      },
      "execution_count": null,
      "outputs": []
    },
    {
      "cell_type": "code",
      "source": [
        "# Para apagar os arquivos caso necessário\n",
        "\n",
        "def remover_arquivos_s3(bucket_name, prefix):\n",
        "    response = s3_client.list_objects_v2(Bucket=bucket_name, Prefix=prefix)\n",
        "\n",
        "    if 'Contents' in response:\n",
        "        for obj in response['Contents']:\n",
        "            s3_client.delete_object(Bucket=bucket_name, Key=obj['Key'])\n",
        "\n",
        "remover_arquivos_s3(bucket_name, 'bronze/')"
      ],
      "metadata": {
        "id": "_S3MnMWthaHq"
      },
      "execution_count": null,
      "outputs": []
    },
    {
      "cell_type": "markdown",
      "source": [
        "Salvar arquivos em Parquet"
      ],
      "metadata": {
        "id": "47JGh1MbcfHp"
      }
    },
    {
      "cell_type": "code",
      "source": [
        "from io import BytesIO\n",
        "import pyarrow.parquet as pq\n",
        "import pyarrow as pa\n",
        "import pandas as pd\n",
        "\n",
        "for arquivo in arquivos_csv:\n",
        "    ano = os.path.basename(arquivo).split('_')[1].split('.')[0]\n",
        "    df = pd.read_csv(arquivo)\n",
        "    parquet_buffer = BytesIO()\n",
        "\n",
        "    table = pa.Table.from_pandas(df)\n",
        "    pq.write_table(table, parquet_buffer)\n",
        "\n",
        "    parquet_buffer.seek(0)\n",
        "    s3_client.upload_fileobj(parquet_buffer, bucket_name, f'bronze/data_{ano}.parquet')\n"
      ],
      "metadata": {
        "id": "gBbgPVD0be-D"
      },
      "execution_count": null,
      "outputs": []
    },
    {
      "cell_type": "code",
      "source": [
        "# Verificar conteúdo\n",
        "response = s3_client.list_objects_v2(Bucket=bucket_name, Prefix='bronze/')\n",
        "keys = [obj['Key'] for obj in response.get('Contents', [])]\n",
        "keys"
      ],
      "metadata": {
        "colab": {
          "base_uri": "https://localhost:8080/"
        },
        "id": "VXbdDF3TjfEA",
        "outputId": "09cce7f8-2bce-4bde-99e3-464fed5af1ea"
      },
      "execution_count": null,
      "outputs": [
        {
          "output_type": "execute_result",
          "data": {
            "text/plain": [
              "['bronze/data_2015.parquet',\n",
              " 'bronze/data_2016.parquet',\n",
              " 'bronze/data_2017.parquet',\n",
              " 'bronze/data_2018.parquet',\n",
              " 'bronze/data_2019.parquet',\n",
              " 'bronze/data_2020.parquet']"
            ]
          },
          "metadata": {},
          "execution_count": 41
        }
      ]
    }
  ]
}